{
 "cells": [
  {
   "cell_type": "markdown",
   "id": "6fd53e0a",
   "metadata": {},
   "source": [
    "# YOLOv5项目学习笔记\n",
    "\n",
    "适用于初学者的YOLOv5学习笔记，涵盖安装、推理、训练和评估等核心内容。"
   ]
  },
  {
   "cell_type": "markdown",
   "id": "6ef5b8b5",
   "metadata": {},
   "source": [
    "## 1. 安装YOLOv5及相关依赖\n",
    "\n",
    "YOLOv5依赖于PyTorch等深度学习库，建议使用Python 3.8+。\n",
    "\n",
    "- 推荐使用命令行安装：\n",
    "- 建议在虚拟环境中操作，避免依赖冲突。"
   ]
  },
  {
   "cell_type": "code",
   "execution_count": null,
   "id": "5bcb7f38",
   "metadata": {},
   "outputs": [],
   "source": [
    "# 安装YOLOv5及相关依赖\n",
    "!pip install torch torchvision torchaudio --extra-index-url https://download.pytorch.org/whl/cpu\n",
    "!pip install opencv-python matplotlib\n",
    "!git clone https://github.com/ultralytics/yolov5.git\n",
    "%cd yolov5\n",
    "!pip install -r requirements.txt"
   ]
  },
  {
   "cell_type": "markdown",
   "id": "384e4135",
   "metadata": {},
   "source": [
    "## 2. 加载YOLOv5模型\n",
    "\n",
    "本节演示如何加载官方预训练的YOLOv5模型，支持多种权重文件。"
   ]
  },
  {
   "cell_type": "code",
   "execution_count": null,
   "id": "6be728ab",
   "metadata": {},
   "outputs": [],
   "source": [
    "# 加载YOLOv5模型\n",
    "import torch\n",
    "\n",
    "# 加载官方预训练模型（yolov5s、yolov5m、yolov5l、yolov5x）\n",
    "model = torch.hub.load('ultralytics/yolov5', 'yolov5s', pretrained=True)\n",
    "\n",
    "# 查看模型结构\n",
    "model"
   ]
  },
  {
   "cell_type": "markdown",
   "id": "2bf61ce8",
   "metadata": {},
   "source": [
    "## 3. 使用YOLOv5进行图片推理\n",
    "\n",
    "本节将演示如何对单张图片进行目标检测，并可视化检测结果。"
   ]
  },
  {
   "cell_type": "code",
   "execution_count": null,
   "id": "748482a6",
   "metadata": {},
   "outputs": [],
   "source": [
    "# 图片推理与可视化\n",
    "import matplotlib.pyplot as plt\n",
    "import cv2\n",
    "\n",
    "img_path = 'data/images/zidane.jpg'  # 示例图片路径\n",
    "img = cv2.imread(img_path)\n",
    "results = model(img)\n",
    "\n",
    "# 显示检测结果\n",
    "results.print()  # 打印检测结果\n",
    "results.show()   # 可视化\n",
    "results.save()   # 保存结果到runs/detect/exp"
   ]
  },
  {
   "cell_type": "markdown",
   "id": "307d75e8",
   "metadata": {},
   "source": [
    "## 4. 使用YOLOv5进行视频推理\n",
    "\n",
    "本节介绍如何对视频流或摄像头画面进行实时目标检测。"
   ]
  },
  {
   "cell_type": "code",
   "execution_count": null,
   "id": "7ca38d27",
   "metadata": {},
   "outputs": [],
   "source": [
    "# 视频推理（摄像头或视频文件）\n",
    "import cv2\n",
    "\n",
    "cap = cv2.VideoCapture(0)  # 0为默认摄像头，或替换为视频文件路径\n",
    "while cap.isOpened():\n",
    "    ret, frame = cap.read()\n",
    "    if not ret:\n",
    "        break\n",
    "    results = model(frame)\n",
    "    results.render()  # 在frame上绘制检测结果\n",
    "    cv2.imshow('YOLOv5 Detection', frame)\n",
    "    if cv2.waitKey(1) & 0xFF == ord('q'):\n",
    "        break\n",
    "cap.release()\n",
    "cv2.destroyAllWindows()"
   ]
  },
  {
   "cell_type": "markdown",
   "id": "ea1f0b18",
   "metadata": {},
   "source": [
    "## 5. 自定义数据集训练YOLOv5\n",
    "\n",
    "本节介绍如何准备自定义数据集，并使用YOLOv5进行训练，包括配置文件的编写。"
   ]
  },
  {
   "cell_type": "code",
   "execution_count": null,
   "id": "e469bc1a",
   "metadata": {},
   "outputs": [],
   "source": [
    "# 训练自定义数据集\n",
    "# 假设已准备好数据集和yaml配置文件（如data/coco128.yaml）\n",
    "!python train.py --img 640 --batch 16 --epochs 50 --data data/coco128.yaml --weights yolov5s.pt --cache"
   ]
  },
  {
   "cell_type": "markdown",
   "id": "32f19784",
   "metadata": {},
   "source": [
    "## 6. 评估模型性能\n",
    "\n",
    "训练完成后，可以使用val.py或模型自带的评估方法计算mAP等指标。"
   ]
  },
  {
   "cell_type": "code",
   "execution_count": null,
   "id": "3c45c5dd",
   "metadata": {},
   "outputs": [],
   "source": [
    "# 评估模型性能\n",
    "!python val.py --weights runs/train/exp/weights/best.pt --data data/coco128.yaml --img 640"
   ]
  },
  {
   "cell_type": "markdown",
   "id": "0d768725",
   "metadata": {},
   "source": [
    "## 7. 保存与加载训练好的模型\n",
    "\n",
    "本节演示如何保存训练好的模型权重，并在后续加载使用。"
   ]
  },
  {
   "cell_type": "code",
   "execution_count": null,
   "id": "5713b148",
   "metadata": {},
   "outputs": [],
   "source": [
    "# 保存与加载模型权重\n",
    "# 保存权重已在训练时自动完成（runs/train/exp/weights/best.pt）\n",
    "# 加载自定义权重进行推理\n",
    "model = torch.hub.load('ultralytics/yolov5', 'custom', path='runs/train/exp/weights/best.pt', source='local')\n",
    "img = 'data/images/bus.jpg'\n",
    "results = model(img)\n",
    "results.show()"
   ]
  }
 ],
 "metadata": {
  "language_info": {
   "name": "python"
  }
 },
 "nbformat": 4,
 "nbformat_minor": 5
}
